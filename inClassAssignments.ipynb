{
  "nbformat": 4,
  "nbformat_minor": 0,
  "metadata": {
    "colab": {
      "provenance": [],
      "authorship_tag": "ABX9TyOSa95ydhQuw0ONdGcOfcA0",
      "include_colab_link": true
    },
    "kernelspec": {
      "name": "python3",
      "display_name": "Python 3"
    },
    "language_info": {
      "name": "python"
    }
  },
  "cells": [
    {
      "cell_type": "markdown",
      "metadata": {
        "id": "view-in-github",
        "colab_type": "text"
      },
      "source": [
        "<a href=\"https://colab.research.google.com/github/alexandrairwin/BTE320/blob/main/inClassAssignments.ipynb\" target=\"_parent\"><img src=\"https://colab.research.google.com/assets/colab-badge.svg\" alt=\"Open In Colab\"/></a>"
      ]
    },
    {
      "cell_type": "markdown",
      "source": [
        "Area Calculation Problem"
      ],
      "metadata": {
        "id": "K9NhZ4G1pIUd"
      }
    },
    {
      "cell_type": "code",
      "execution_count": null,
      "metadata": {
        "colab": {
          "base_uri": "https://localhost:8080/"
        },
        "id": "MILZfMpVo_cG",
        "outputId": "ed6da429-cb9f-4ccb-eca8-27c44d83ef0d"
      },
      "outputs": [
        {
          "output_type": "stream",
          "name": "stdout",
          "text": [
            "Please provide a radius:5\n",
            "Please provide a height:10\n",
            "Area of a cylinder: 471.2385 sq. ft.\n"
          ]
        }
      ],
      "source": [
        "radius = input(\"Please provide a radius:\")\n",
        "radius=float(radius)\n",
        "height = input(\"Please provide a height:\")\n",
        "height=int(height)\n",
        "pi=3.14159\n",
        "area=2*pi*(radius**2)+2*pi*radius*height\n",
        "print(f'Area of a cylinder: {area} sq. ft.')"
      ]
    },
    {
      "cell_type": "markdown",
      "source": [
        "Number/Symbol Problem"
      ],
      "metadata": {
        "id": "83nDOQLbrz08"
      }
    },
    {
      "cell_type": "code",
      "source": [
        "number1= float(input(\"Please provide a number:\"))\n",
        "number2= float(input(\"Please provide another number:\"))\n",
        "symbol= input(\"Please provide a symbol (+,-,*,/,%):\")\n",
        "\n",
        "if symbol==\"+\":\n",
        "    print(f'{number1} + {number2} = {number1 + number2}')\n",
        "\n",
        "elif symbol==\"-\":\n",
        "    print(f'{number1} - {number2} = {number1 - number2}')\n",
        "\n",
        "elif symbol==\"*\":\n",
        "    print(f'{number1} * {number2} = {number1 * number2}')\n",
        "\n",
        "elif symbol==\"/\":\n",
        "    print(f'{number1} / {number2} = {number1 / number2}')\n",
        "\n",
        "elif symbol==\"%\":\n",
        "    print(f'{number1} mod {number2} = {number1 % number2}')\n",
        "\n",
        "else:\n",
        "    print(\"Invalid symbol\")"
      ],
      "metadata": {
        "colab": {
          "base_uri": "https://localhost:8080/"
        },
        "id": "sXnhR5Yar436",
        "outputId": "6692f657-6241-45bb-d8a7-d493b24d505a"
      },
      "execution_count": null,
      "outputs": [
        {
          "output_type": "stream",
          "name": "stdout",
          "text": [
            "Please provide a number:4\n",
            "Please provide another number:4\n",
            "Please provide a symbol (+,-,*,/,%):+\n",
            "4.0 + 4.0 = 8.0\n"
          ]
        }
      ]
    },
    {
      "cell_type": "code",
      "source": [
        "x= int(input(\"Please provide a number:\"))\n",
        "if x%2==0:\n",
        "  result = \"even\"\n",
        "else:\n",
        "  result = \"odd\"\n",
        "print(f'{x} is {result}!')"
      ],
      "metadata": {
        "colab": {
          "base_uri": "https://localhost:8080/"
        },
        "id": "LfSmK_WpxkR5",
        "outputId": "f5ea5b1a-f49c-47fd-fdd1-1daf81d9123f"
      },
      "execution_count": null,
      "outputs": [
        {
          "output_type": "stream",
          "name": "stdout",
          "text": [
            "Please provide a number:5\n",
            "5 is odd!\n"
          ]
        }
      ]
    },
    {
      "cell_type": "markdown",
      "source": [
        "Parking Garage Problem"
      ],
      "metadata": {
        "id": "6lkEapJQXfLp"
      }
    },
    {
      "cell_type": "code",
      "source": [
        "hours=int()\n",
        "\n",
        "for number in range(1,9,1):\n",
        "  fee= 5+ 2.5*number\n",
        "\n",
        "  if fee<10:\n",
        "    fee=10.0\n",
        "\n",
        "  elif fee>20:\n",
        "    fee=20.0\n",
        "\n",
        "  print(number,\" \", fee)\n",
        ""
      ],
      "metadata": {
        "colab": {
          "base_uri": "https://localhost:8080/"
        },
        "id": "wevvcYVeXjfB",
        "outputId": "7030781e-aec4-4cf2-92e5-f44a03795b9a"
      },
      "execution_count": 10,
      "outputs": [
        {
          "output_type": "stream",
          "name": "stdout",
          "text": [
            "1   10.0\n",
            "2   10.0\n",
            "3   12.5\n",
            "4   15.0\n",
            "5   17.5\n",
            "6   20.0\n",
            "7   20.0\n",
            "8   20.0\n"
          ]
        }
      ]
    }
  ]
}