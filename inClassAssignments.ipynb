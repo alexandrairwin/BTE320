{
  "nbformat": 4,
  "nbformat_minor": 0,
  "metadata": {
    "colab": {
      "provenance": [],
      "authorship_tag": "ABX9TyNZfXEpDQOLmGkHWX6P7A16",
      "include_colab_link": true
    },
    "kernelspec": {
      "name": "python3",
      "display_name": "Python 3"
    },
    "language_info": {
      "name": "python"
    }
  },
  "cells": [
    {
      "cell_type": "markdown",
      "metadata": {
        "id": "view-in-github",
        "colab_type": "text"
      },
      "source": [
        "<a href=\"https://colab.research.google.com/github/alexandrairwin/BTE320/blob/main/inClassAssignments.ipynb\" target=\"_parent\"><img src=\"https://colab.research.google.com/assets/colab-badge.svg\" alt=\"Open In Colab\"/></a>"
      ]
    },
    {
      "cell_type": "markdown",
      "source": [
        "Area Calculation Problem"
      ],
      "metadata": {
        "id": "K9NhZ4G1pIUd"
      }
    },
    {
      "cell_type": "code",
      "execution_count": null,
      "metadata": {
        "colab": {
          "base_uri": "https://localhost:8080/"
        },
        "id": "MILZfMpVo_cG",
        "outputId": "ed6da429-cb9f-4ccb-eca8-27c44d83ef0d"
      },
      "outputs": [
        {
          "output_type": "stream",
          "name": "stdout",
          "text": [
            "Please provide a radius:5\n",
            "Please provide a height:10\n",
            "Area of a cylinder: 471.2385 sq. ft.\n"
          ]
        }
      ],
      "source": [
        "radius = input(\"Please provide a radius:\")\n",
        "radius=float(radius)\n",
        "height = input(\"Please provide a height:\")\n",
        "height=int(height)\n",
        "pi=3.14159\n",
        "area=2*pi*(radius**2)+2*pi*radius*height\n",
        "print(f'Area of a cylinder: {area} sq. ft.')"
      ]
    },
    {
      "cell_type": "markdown",
      "source": [
        "Number/Symbol Problem"
      ],
      "metadata": {
        "id": "83nDOQLbrz08"
      }
    },
    {
      "cell_type": "code",
      "source": [
        "number1= float(input(\"Please provide a number:\"))\n",
        "number2= float(input(\"Please provide another number:\"))\n",
        "symbol= input(\"Please provide a symbol (+,-,*,/,%):\")\n",
        "\n",
        "if symbol==\"+\":\n",
        "    print(f'{number1} + {number2} = {number1 + number2}')\n",
        "\n",
        "elif symbol==\"-\":\n",
        "    print(f'{number1} - {number2} = {number1 - number2}')\n",
        "\n",
        "elif symbol==\"*\":\n",
        "    print(f'{number1} * {number2} = {number1 * number2}')\n",
        "\n",
        "elif symbol==\"/\":\n",
        "    print(f'{number1} / {number2} = {number1 / number2}')\n",
        "\n",
        "elif symbol==\"%\":\n",
        "    print(f'{number1} mod {number2} = {number1 % number2}')\n",
        "\n",
        "else:\n",
        "    print(\"Invalid symbol\")"
      ],
      "metadata": {
        "colab": {
          "base_uri": "https://localhost:8080/"
        },
        "id": "sXnhR5Yar436",
        "outputId": "6692f657-6241-45bb-d8a7-d493b24d505a"
      },
      "execution_count": null,
      "outputs": [
        {
          "output_type": "stream",
          "name": "stdout",
          "text": [
            "Please provide a number:4\n",
            "Please provide another number:4\n",
            "Please provide a symbol (+,-,*,/,%):+\n",
            "4.0 + 4.0 = 8.0\n"
          ]
        }
      ]
    },
    {
      "cell_type": "code",
      "source": [
        "x= int(input(\"Please provide a number:\"))\n",
        "if x%2==0:\n",
        "  result = \"even\"\n",
        "else:\n",
        "  result = \"odd\"\n",
        "print(f'{x} is {result}!')"
      ],
      "metadata": {
        "colab": {
          "base_uri": "https://localhost:8080/"
        },
        "id": "LfSmK_WpxkR5",
        "outputId": "f5ea5b1a-f49c-47fd-fdd1-1daf81d9123f"
      },
      "execution_count": null,
      "outputs": [
        {
          "output_type": "stream",
          "name": "stdout",
          "text": [
            "Please provide a number:5\n",
            "5 is odd!\n"
          ]
        }
      ]
    },
    {
      "cell_type": "markdown",
      "source": [
        "Parking Garage Problem"
      ],
      "metadata": {
        "id": "6lkEapJQXfLp"
      }
    },
    {
      "cell_type": "code",
      "source": [
        "for number in range(1,9,1):\n",
        "  fee= 5+ 2.5*number\n",
        "\n",
        "  if fee<10:\n",
        "    fee=10.0\n",
        "\n",
        "  elif fee>20:\n",
        "    fee=20.0\n",
        "\n",
        "  print(number,\" \", fee)\n"
      ],
      "metadata": {
        "colab": {
          "base_uri": "https://localhost:8080/"
        },
        "id": "wevvcYVeXjfB",
        "outputId": "f27bd0d9-51d4-41c9-f481-e9f18676c411"
      },
      "execution_count": null,
      "outputs": [
        {
          "output_type": "stream",
          "name": "stdout",
          "text": [
            "1   10.0\n",
            "2   10.0\n",
            "3   12.5\n",
            "4   15.0\n",
            "5   17.5\n",
            "6   20.0\n",
            "7   20.0\n",
            "8   20.0\n"
          ]
        }
      ]
    },
    {
      "cell_type": "markdown",
      "source": [
        "Movie Theater Problem"
      ],
      "metadata": {
        "id": "ayqmy28YdC1S"
      }
    },
    {
      "cell_type": "code",
      "source": [
        "print(\"adMoney\",\" \", \"profit\")\n",
        "\n",
        "import math\n",
        "\n",
        "for adMoney in range(0,201,25):\n",
        "  revenue=(20 + 2*round(adMoney**.5))*10\n",
        "  #OR revenue=(20 + 2*round(math.sqrt(adMoney)))*10\n",
        "  costs=200+adMoney\n",
        "  profit=revenue-costs\n",
        "\n",
        "  print(adMoney,\"   \", profit)"
      ],
      "metadata": {
        "colab": {
          "base_uri": "https://localhost:8080/"
        },
        "id": "Ke0XOFzGdFs1",
        "outputId": "3b3cf2d3-6778-47db-8164-8c4f7112b747"
      },
      "execution_count": null,
      "outputs": [
        {
          "output_type": "stream",
          "name": "stdout",
          "text": [
            "adMoney   profit\n",
            "0     0\n",
            "25     75\n",
            "50     90\n",
            "75     105\n",
            "100     100\n",
            "125     95\n",
            "150     90\n",
            "175     85\n",
            "200     80\n"
          ]
        }
      ]
    },
    {
      "cell_type": "markdown",
      "source": [
        "Rock Paper Scissors Problem"
      ],
      "metadata": {
        "id": "MnEQbntrHa7G"
      }
    },
    {
      "cell_type": "code",
      "source": [
        "cont= str(input(\"Would you like to play a game? (yes or no)\")).capitalize()\n",
        "\n",
        "while cont==\"yes\":\n",
        "  P1input= str(input(\"Player 1, please choose rock, paper, or scissors:\")).capitalize()\n",
        "  P2input= str(input(\"Player 2, please choose rock, paper, or scissors:\")).capitalize()\n",
        "\n",
        "  if P1input==\"rock\" and P2input==\"scissors\":\n",
        "    print(\"Player 1 wins!\")\n",
        "\n",
        "  elif P1input==\"rock\" and P2input==\"paper\":\n",
        "    print(\"Player 2 wins!\")\n",
        "\n",
        "  elif P1input==\"scissors\" and P2input==\"paper\":\n",
        "    print(\"Player 1 wins!\")\n",
        "\n",
        "  elif P1input==\"scissors\" and P2input==\"rock\":\n",
        "    print(\"Player 2 wins!\")\n",
        "\n",
        "  elif P1input==\"paper\" and P2input==\"rock\":\n",
        "    print(\"Player 1 wins!\")\n",
        "\n",
        "  elif P1input==\"paper\" and P2input==\"scissors\":\n",
        "    print(\"Player 2 wins!\")\n",
        "\n",
        "  elif P1input==P2input:\n",
        "    print(\"It's a tie!\")\n",
        "\n",
        "  else:\n",
        "    print(\"Invalid input\")\n",
        "\n",
        "  cont= str(input(\"Would you like to play a game? (yes or no)\")).capitalize()\n",
        "\n",
        "print(\"Thank you for playing!\")"
      ],
      "metadata": {
        "colab": {
          "base_uri": "https://localhost:8080/"
        },
        "id": "pZ2FrfjhHeYI",
        "outputId": "e56cba3f-5f27-4955-bc65-b73918bee790"
      },
      "execution_count": null,
      "outputs": [
        {
          "output_type": "stream",
          "name": "stdout",
          "text": [
            "Would you like to play a game? (yes or no)yes\n",
            "Player 1, please choose rock, paper, or scissors:rock\n",
            "Player 2, please choose rock, paper, or scissors:paper\n",
            "Player 2 wins!\n",
            "Would you like to play a game? (yes or no)yes\n",
            "Player 1, please choose rock, paper, or scissors:no\n",
            "Player 2, please choose rock, paper, or scissors:no\n",
            "It's a tie!\n",
            "Would you like to play a game? (yes or no)no\n",
            "Thank you for playing!\n"
          ]
        }
      ]
    },
    {
      "cell_type": "markdown",
      "source": [
        "Descending Numbers"
      ],
      "metadata": {
        "id": "Bdb8wwDhPDwq"
      }
    },
    {
      "cell_type": "code",
      "source": [
        "numbers=[]\n",
        "\n",
        "number= float(input(\"Please provide a number:\"))\n",
        "\n",
        "while number!=0.0:\n",
        "  numbers.append(number)\n",
        "  number= float(input(\"Please provide a number:\"))\n",
        "\n",
        "numbers.sort(reverse=True)\n",
        "print(numbers)"
      ],
      "metadata": {
        "colab": {
          "base_uri": "https://localhost:8080/"
        },
        "id": "0yBow-ubPTuh",
        "outputId": "efa0ba4b-7ef8-4ca6-987c-35c2869ac4e8"
      },
      "execution_count": null,
      "outputs": [
        {
          "output_type": "stream",
          "name": "stdout",
          "text": [
            "Please provide a number:5\n",
            "Please provide a number:8\n",
            "Please provide a number:3\n",
            "Please provide a number:1\n",
            "Please provide a number:0\n",
            "[8.0, 5.0, 3.0, 1.0]\n"
          ]
        }
      ]
    },
    {
      "cell_type": "markdown",
      "source": [
        "Months Problem (3 options)"
      ],
      "metadata": {
        "id": "2_bqfmh8xYYT"
      }
    },
    {
      "cell_type": "code",
      "source": [
        "months={}\n",
        "\n",
        "names=[\"Jan\",\"Feb\",\"Mar\",\"Apr\",\"May\",\"Jun\",\"Jul\",\"Aug\",\"Sep\",\"Oct\",\"Nov\",\"Dec\"]\n",
        "numbers=[1,2,3,4,5,6,7,8,9,10,11,12]\n",
        "\n",
        "\n",
        "for idx in range(len(numbers)):\n",
        "  months[numbers[idx]]= names[idx]\n",
        "months\n"
      ],
      "metadata": {
        "colab": {
          "base_uri": "https://localhost:8080/"
        },
        "id": "nWFo2BxExYPZ",
        "outputId": "aee4b495-d522-4698-9cb3-6781e9efc8bd"
      },
      "execution_count": null,
      "outputs": [
        {
          "output_type": "execute_result",
          "data": {
            "text/plain": [
              "{1: 'Jan',\n",
              " 2: 'Feb',\n",
              " 3: 'Mar',\n",
              " 4: 'Apr',\n",
              " 5: 'May',\n",
              " 6: 'Jun',\n",
              " 7: 'Jul',\n",
              " 8: 'Aug',\n",
              " 9: 'Sep',\n",
              " 10: 'Oct',\n",
              " 11: 'Nov',\n",
              " 12: 'Dec'}"
            ]
          },
          "metadata": {},
          "execution_count": 2
        }
      ]
    },
    {
      "cell_type": "code",
      "source": [
        "months={}\n",
        "\n",
        "names=[\"Jan\",\"Feb\",\"Mar\",\"Apr\",\"May\",\"Jun\",\"Jul\",\"Aug\",\"Sep\",\"Oct\",\"Nov\",\"Dec\"]\n",
        "numbers=[1,2,3,4,5,6,7,8,9,10,11,12]\n",
        "\n",
        "counter=0\n",
        "for num in numbers:\n",
        "  months[num]= names[counter]\n",
        "  counter+=1\n",
        "months"
      ],
      "metadata": {
        "colab": {
          "base_uri": "https://localhost:8080/"
        },
        "id": "V2VK7rXv2aO9",
        "outputId": "a7a737b0-9276-41a3-9333-09706afda32b"
      },
      "execution_count": null,
      "outputs": [
        {
          "output_type": "execute_result",
          "data": {
            "text/plain": [
              "{1: 'Jan',\n",
              " 2: 'Feb',\n",
              " 3: 'Mar',\n",
              " 4: 'Apr',\n",
              " 5: 'May',\n",
              " 6: 'Jun',\n",
              " 7: 'Jul',\n",
              " 8: 'Aug',\n",
              " 9: 'Sep',\n",
              " 10: 'Oct',\n",
              " 11: 'Nov',\n",
              " 12: 'Dec'}"
            ]
          },
          "metadata": {},
          "execution_count": 3
        }
      ]
    },
    {
      "cell_type": "code",
      "source": [
        "months={}\n",
        "\n",
        "names=[\"Jan\",\"Feb\",\"Mar\",\"Apr\",\"May\",\"Jun\",\"Jul\",\"Aug\",\"Sep\",\"Oct\",\"Nov\",\"Dec\"]\n",
        "numbers=[1,2,3,4,5,6,7,8,9,10,11,12]\n",
        "\n",
        "for num in numbers:\n",
        "  months[num]= names[num-1]\n",
        "months"
      ],
      "metadata": {
        "colab": {
          "base_uri": "https://localhost:8080/"
        },
        "id": "7PcBj_ii2xLB",
        "outputId": "91436da2-f3c9-4f48-e680-1ac195386a22"
      },
      "execution_count": null,
      "outputs": [
        {
          "output_type": "execute_result",
          "data": {
            "text/plain": [
              "{1: 'Jan',\n",
              " 2: 'Feb',\n",
              " 3: 'Mar',\n",
              " 4: 'Apr',\n",
              " 5: 'May',\n",
              " 6: 'Jun',\n",
              " 7: 'Jul',\n",
              " 8: 'Aug',\n",
              " 9: 'Sep',\n",
              " 10: 'Oct',\n",
              " 11: 'Nov',\n",
              " 12: 'Dec'}"
            ]
          },
          "metadata": {},
          "execution_count": 4
        }
      ]
    },
    {
      "cell_type": "markdown",
      "source": [
        "\"Build a Dictionary\" Problem"
      ],
      "metadata": {
        "id": "POeotMJD3rOV"
      }
    },
    {
      "cell_type": "code",
      "source": [
        "counts={}\n",
        "\n",
        "while len(counts)<5:\n",
        "  key= input(\"Please provide a string:\")\n",
        "\n",
        "  if key not in counts:\n",
        "    counts[key]=1\n",
        "  else:\n",
        "    counts[key]+=1\n",
        "\n",
        "counts"
      ],
      "metadata": {
        "colab": {
          "base_uri": "https://localhost:8080/"
        },
        "id": "BFdaWyYU4hrJ",
        "outputId": "d5d4c285-c8d5-4cf0-9f08-a33e0c71fb8e"
      },
      "execution_count": null,
      "outputs": [
        {
          "name": "stdout",
          "output_type": "stream",
          "text": [
            "Please provide a string:a\n",
            "Please provide a string:b\n",
            "Please provide a string:a\n",
            "Please provide a string:b\n",
            "Please provide a string:a\n",
            "Please provide a string:c\n",
            "Please provide a string:d\n",
            "Please provide a string:e\n"
          ]
        },
        {
          "output_type": "execute_result",
          "data": {
            "text/plain": [
              "{'a': 3, 'b': 2, 'c': 1, 'd': 1, 'e': 1}"
            ]
          },
          "metadata": {},
          "execution_count": 5
        }
      ]
    },
    {
      "cell_type": "markdown",
      "source": [
        "Parking Garage Problem (Part 2)"
      ],
      "metadata": {
        "id": "kaI13di5mfMn"
      }
    },
    {
      "cell_type": "code",
      "source": [
        "def calcFee(hours):\n",
        "  fee= 5+ 2.5*hours\n",
        "  if fee<10.0:\n",
        "    fee=10.0\n",
        "  elif fee>20.0:\n",
        "    fee=20.0\n",
        "  print(f'Parking fee: $ {fee}')\n",
        "\n",
        "def main():\n",
        "  hours = int(input(\"Enter number of hours: \"))\n",
        "  fee= calcFee(hours)\n",
        "\n",
        "if __name__ == \"__main__\":\n",
        "  main()"
      ],
      "metadata": {
        "colab": {
          "base_uri": "https://localhost:8080/"
        },
        "id": "7oMS-melm44d",
        "outputId": "db2af8c5-450c-4e60-88c8-84782fc9b730"
      },
      "execution_count": null,
      "outputs": [
        {
          "output_type": "stream",
          "name": "stdout",
          "text": [
            "Enter number of hours: 10\n",
            "Parking fee: $ 20.0\n"
          ]
        }
      ]
    },
    {
      "cell_type": "markdown",
      "source": [
        "Backwards Strings Problem"
      ],
      "metadata": {
        "id": "FYHhcD_U4J3X"
      }
    },
    {
      "cell_type": "code",
      "source": [
        "def reverse(s):\n",
        "  if len(s)<=1:\n",
        "    return s\n",
        "  else:\n",
        "    return s[-1] + reverse(s[:-1])\n",
        "\n",
        "reverse('hello')"
      ],
      "metadata": {
        "colab": {
          "base_uri": "https://localhost:8080/",
          "height": 35
        },
        "id": "PYl0J-rr4817",
        "outputId": "2f7a0650-59c8-43ba-86c5-d0bf21a339ac"
      },
      "execution_count": null,
      "outputs": [
        {
          "output_type": "execute_result",
          "data": {
            "text/plain": [
              "'olleh'"
            ],
            "application/vnd.google.colaboratory.intrinsic+json": {
              "type": "string"
            }
          },
          "metadata": {},
          "execution_count": 1
        }
      ]
    },
    {
      "cell_type": "markdown",
      "source": [
        "Checking CalcFee Problem"
      ],
      "metadata": {
        "id": "I8bmHtR3S1Be"
      }
    },
    {
      "cell_type": "code",
      "source": [
        "#stress test\n",
        "def calcFee(hours):\n",
        "  fee= 5+ 2.5*hours\n",
        "  if fee<10.0:\n",
        "    fee=10.0\n",
        "  elif fee>20.0:\n",
        "    fee=20.0\n",
        "  print(f'Parking fee: $ {fee}')\n",
        "\n",
        "def main():\n",
        "  try:\n",
        "    hours = int(input(\"Enter number of hours: \"))\n",
        "    fee= calcFee(hours)\n",
        "  except ValueError:\n",
        "    print(\"Invalid input\")\n",
        "\n",
        "if __name__ == \"__main__\":\n",
        "  main()"
      ],
      "metadata": {
        "colab": {
          "base_uri": "https://localhost:8080/"
        },
        "id": "QUHah2SZTFu5",
        "outputId": "9f0fe4d2-8188-49e8-85df-e86062908249"
      },
      "execution_count": null,
      "outputs": [
        {
          "output_type": "stream",
          "name": "stdout",
          "text": [
            "Enter number of hours: x\n",
            "Invalid input\n"
          ]
        }
      ]
    },
    {
      "cell_type": "markdown",
      "source": [
        "Greeting Class Problem"
      ],
      "metadata": {
        "id": "2TD4l1MFYMDr"
      }
    },
    {
      "cell_type": "code",
      "source": [
        "class Greeting:\n",
        "  def __init__(self, first, last):\n",
        "    self.first=first\n",
        "    self.last=last\n",
        "  def display(self):\n",
        "    print(f'Hello, {self.first}!')\n",
        "\n",
        "greeting=Greeting('Donald','Becker')\n",
        "greeting.display()"
      ],
      "metadata": {
        "colab": {
          "base_uri": "https://localhost:8080/"
        },
        "id": "lV-nPXtbYRJQ",
        "outputId": "a29f98b4-f737-4f57-a0a4-50522b531801"
      },
      "execution_count": 1,
      "outputs": [
        {
          "output_type": "stream",
          "name": "stdout",
          "text": [
            "Hello, Donald!\n"
          ]
        }
      ]
    }
  ]
}