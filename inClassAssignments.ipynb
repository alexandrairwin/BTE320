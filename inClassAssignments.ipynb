{
  "nbformat": 4,
  "nbformat_minor": 0,
  "metadata": {
    "colab": {
      "provenance": [],
      "authorship_tag": "ABX9TyNlVKCqXuwxJEN+MCYs7SfL",
      "include_colab_link": true
    },
    "kernelspec": {
      "name": "python3",
      "display_name": "Python 3"
    },
    "language_info": {
      "name": "python"
    }
  },
  "cells": [
    {
      "cell_type": "markdown",
      "metadata": {
        "id": "view-in-github",
        "colab_type": "text"
      },
      "source": [
        "<a href=\"https://colab.research.google.com/github/alexandrairwin/BTE320/blob/main/inClassAssignments.ipynb\" target=\"_parent\"><img src=\"https://colab.research.google.com/assets/colab-badge.svg\" alt=\"Open In Colab\"/></a>"
      ]
    },
    {
      "cell_type": "markdown",
      "source": [
        "Area Calculation Problem"
      ],
      "metadata": {
        "id": "K9NhZ4G1pIUd"
      }
    },
    {
      "cell_type": "code",
      "execution_count": null,
      "metadata": {
        "colab": {
          "base_uri": "https://localhost:8080/"
        },
        "id": "MILZfMpVo_cG",
        "outputId": "ed6da429-cb9f-4ccb-eca8-27c44d83ef0d"
      },
      "outputs": [
        {
          "output_type": "stream",
          "name": "stdout",
          "text": [
            "Please provide a radius:5\n",
            "Please provide a height:10\n",
            "Area of a cylinder: 471.2385 sq. ft.\n"
          ]
        }
      ],
      "source": [
        "radius = input(\"Please provide a radius:\")\n",
        "radius=float(radius)\n",
        "height = input(\"Please provide a height:\")\n",
        "height=int(height)\n",
        "pi=3.14159\n",
        "area=2*pi*(radius**2)+2*pi*radius*height\n",
        "print(f'Area of a cylinder: {area} sq. ft.')"
      ]
    }
  ]
}