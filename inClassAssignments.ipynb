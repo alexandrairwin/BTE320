{
  "nbformat": 4,
  "nbformat_minor": 0,
  "metadata": {
    "colab": {
      "provenance": [],
      "authorship_tag": "ABX9TyOtGSgi0NkVDoTZqKM7IO7m",
      "include_colab_link": true
    },
    "kernelspec": {
      "name": "python3",
      "display_name": "Python 3"
    },
    "language_info": {
      "name": "python"
    }
  },
  "cells": [
    {
      "cell_type": "markdown",
      "metadata": {
        "id": "view-in-github",
        "colab_type": "text"
      },
      "source": [
        "<a href=\"https://colab.research.google.com/github/alexandrairwin/BTE320/blob/main/inClassAssignments.ipynb\" target=\"_parent\"><img src=\"https://colab.research.google.com/assets/colab-badge.svg\" alt=\"Open In Colab\"/></a>"
      ]
    },
    {
      "cell_type": "markdown",
      "source": [
        "Area Calculation Problem"
      ],
      "metadata": {
        "id": "K9NhZ4G1pIUd"
      }
    },
    {
      "cell_type": "code",
      "execution_count": null,
      "metadata": {
        "colab": {
          "base_uri": "https://localhost:8080/"
        },
        "id": "MILZfMpVo_cG",
        "outputId": "ed6da429-cb9f-4ccb-eca8-27c44d83ef0d"
      },
      "outputs": [
        {
          "output_type": "stream",
          "name": "stdout",
          "text": [
            "Please provide a radius:5\n",
            "Please provide a height:10\n",
            "Area of a cylinder: 471.2385 sq. ft.\n"
          ]
        }
      ],
      "source": [
        "radius = input(\"Please provide a radius:\")\n",
        "radius=float(radius)\n",
        "height = input(\"Please provide a height:\")\n",
        "height=int(height)\n",
        "pi=3.14159\n",
        "area=2*pi*(radius**2)+2*pi*radius*height\n",
        "print(f'Area of a cylinder: {area} sq. ft.')"
      ]
    },
    {
      "cell_type": "markdown",
      "source": [
        "Number/Symbol Problem"
      ],
      "metadata": {
        "id": "83nDOQLbrz08"
      }
    },
    {
      "cell_type": "code",
      "source": [
        "number1= float(input(\"Please provide a number:\"))\n",
        "number2= float(input(\"Please provide another number:\"))\n",
        "symbol= input(\"Please provide a symbol (+,-,*,/,%):\")\n",
        "\n",
        "if symbol==\"+\":\n",
        "    print(f'{number1} + {number2} = {number1 + number2}')\n",
        "\n",
        "elif symbol==\"-\":\n",
        "    print(f'{number1} - {number2} = {number1 - number2}')\n",
        "\n",
        "elif symbol==\"*\":\n",
        "    print(f'{number1} * {number2} = {number1 * number2}')\n",
        "\n",
        "elif symbol==\"/\":\n",
        "    print(f'{number1} / {number2} = {number1 / number2}')\n",
        "\n",
        "elif symbol==\"%\":\n",
        "    print(f'{number1} mod {number2} = {number1 % number2}')\n",
        "\n",
        "else:\n",
        "    print(\"Invalid symbol\")"
      ],
      "metadata": {
        "colab": {
          "base_uri": "https://localhost:8080/"
        },
        "id": "sXnhR5Yar436",
        "outputId": "6692f657-6241-45bb-d8a7-d493b24d505a"
      },
      "execution_count": null,
      "outputs": [
        {
          "output_type": "stream",
          "name": "stdout",
          "text": [
            "Please provide a number:4\n",
            "Please provide another number:4\n",
            "Please provide a symbol (+,-,*,/,%):+\n",
            "4.0 + 4.0 = 8.0\n"
          ]
        }
      ]
    },
    {
      "cell_type": "code",
      "source": [
        "x= int(input(\"Please provide a number:\"))\n",
        "if x%2==0:\n",
        "  result = \"even\"\n",
        "else:\n",
        "  result = \"odd\"\n",
        "print(f'{x} is {result}!')"
      ],
      "metadata": {
        "colab": {
          "base_uri": "https://localhost:8080/"
        },
        "id": "LfSmK_WpxkR5",
        "outputId": "f5ea5b1a-f49c-47fd-fdd1-1daf81d9123f"
      },
      "execution_count": null,
      "outputs": [
        {
          "output_type": "stream",
          "name": "stdout",
          "text": [
            "Please provide a number:5\n",
            "5 is odd!\n"
          ]
        }
      ]
    },
    {
      "cell_type": "markdown",
      "source": [
        "Parking Garage Problem"
      ],
      "metadata": {
        "id": "6lkEapJQXfLp"
      }
    },
    {
      "cell_type": "code",
      "source": [
        "for number in range(1,9,1):\n",
        "  fee= 5+ 2.5*number\n",
        "\n",
        "  if fee<10:\n",
        "    fee=10.0\n",
        "\n",
        "  elif fee>20:\n",
        "    fee=20.0\n",
        "\n",
        "  print(number,\" \", fee)\n"
      ],
      "metadata": {
        "colab": {
          "base_uri": "https://localhost:8080/"
        },
        "id": "wevvcYVeXjfB",
        "outputId": "f27bd0d9-51d4-41c9-f481-e9f18676c411"
      },
      "execution_count": null,
      "outputs": [
        {
          "output_type": "stream",
          "name": "stdout",
          "text": [
            "1   10.0\n",
            "2   10.0\n",
            "3   12.5\n",
            "4   15.0\n",
            "5   17.5\n",
            "6   20.0\n",
            "7   20.0\n",
            "8   20.0\n"
          ]
        }
      ]
    },
    {
      "cell_type": "markdown",
      "source": [
        "Movie Theater Problem"
      ],
      "metadata": {
        "id": "ayqmy28YdC1S"
      }
    },
    {
      "cell_type": "code",
      "source": [
        "print(\"adMoney\",\" \", \"profit\")\n",
        "\n",
        "import math\n",
        "\n",
        "for adMoney in range(0,201,25):\n",
        "  revenue=(20 + 2*round(adMoney**.5))*10\n",
        "  #OR revenue=(20 + 2*round(math.sqrt(adMoney)))*10\n",
        "  costs=200+adMoney\n",
        "  profit=revenue-costs\n",
        "\n",
        "  print(adMoney,\"   \", profit)"
      ],
      "metadata": {
        "colab": {
          "base_uri": "https://localhost:8080/"
        },
        "id": "Ke0XOFzGdFs1",
        "outputId": "3b3cf2d3-6778-47db-8164-8c4f7112b747"
      },
      "execution_count": null,
      "outputs": [
        {
          "output_type": "stream",
          "name": "stdout",
          "text": [
            "adMoney   profit\n",
            "0     0\n",
            "25     75\n",
            "50     90\n",
            "75     105\n",
            "100     100\n",
            "125     95\n",
            "150     90\n",
            "175     85\n",
            "200     80\n"
          ]
        }
      ]
    },
    {
      "cell_type": "markdown",
      "source": [
        "Rock Paper Scissors Problem"
      ],
      "metadata": {
        "id": "MnEQbntrHa7G"
      }
    },
    {
      "cell_type": "code",
      "source": [
        "cont= str(input(\"Would you like to play a game? (yes or no)\")).capitalize()\n",
        "\n",
        "while cont==\"yes\":\n",
        "  P1input= str(input(\"Player 1, please choose rock, paper, or scissors:\")).capitalize()\n",
        "  P2input= str(input(\"Player 2, please choose rock, paper, or scissors:\")).capitalize()\n",
        "\n",
        "  if P1input==\"rock\" and P2input==\"scissors\":\n",
        "    print(\"Player 1 wins!\")\n",
        "\n",
        "  elif P1input==\"rock\" and P2input==\"paper\":\n",
        "    print(\"Player 2 wins!\")\n",
        "\n",
        "  elif P1input==\"scissors\" and P2input==\"paper\":\n",
        "    print(\"Player 1 wins!\")\n",
        "\n",
        "  elif P1input==\"scissors\" and P2input==\"rock\":\n",
        "    print(\"Player 2 wins!\")\n",
        "\n",
        "  elif P1input==\"paper\" and P2input==\"rock\":\n",
        "    print(\"Player 1 wins!\")\n",
        "\n",
        "  elif P1input==\"paper\" and P2input==\"scissors\":\n",
        "    print(\"Player 2 wins!\")\n",
        "\n",
        "  elif P1input==P2input:\n",
        "    print(\"It's a tie!\")\n",
        "\n",
        "  else:\n",
        "    print(\"Invalid input\")\n",
        "\n",
        "  cont= str(input(\"Would you like to play a game? (yes or no)\")).capitalize()\n",
        "\n",
        "print(\"Thank you for playing!\")"
      ],
      "metadata": {
        "colab": {
          "base_uri": "https://localhost:8080/"
        },
        "id": "pZ2FrfjhHeYI",
        "outputId": "e56cba3f-5f27-4955-bc65-b73918bee790"
      },
      "execution_count": null,
      "outputs": [
        {
          "output_type": "stream",
          "name": "stdout",
          "text": [
            "Would you like to play a game? (yes or no)yes\n",
            "Player 1, please choose rock, paper, or scissors:rock\n",
            "Player 2, please choose rock, paper, or scissors:paper\n",
            "Player 2 wins!\n",
            "Would you like to play a game? (yes or no)yes\n",
            "Player 1, please choose rock, paper, or scissors:no\n",
            "Player 2, please choose rock, paper, or scissors:no\n",
            "It's a tie!\n",
            "Would you like to play a game? (yes or no)no\n",
            "Thank you for playing!\n"
          ]
        }
      ]
    }
  ]
}